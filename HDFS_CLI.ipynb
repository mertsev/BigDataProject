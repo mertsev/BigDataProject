{
 "cells": [
  {
   "cell_type": "code",
   "execution_count": 2,
   "metadata": {},
   "outputs": [],
   "source": [
    "from hdfs import InsecureClient\n"
   ]
  },
  {
   "cell_type": "code",
   "execution_count": 3,
   "metadata": {},
   "outputs": [],
   "source": [
    "client = InsecureClient('http://ec2-3-13-187-19.us-east-2.compute.amazonaws.com:14000', user='ubuntu')\n"
   ]
  },
  {
   "cell_type": "code",
   "execution_count": 23,
   "metadata": {},
   "outputs": [
    {
     "name": "stdout",
     "output_type": "stream",
     "text": [
      "b'<?xml version=\"1.0\"?>\\n<?xml-stylesheet type=\"text/xsl\" href=\"configuration.xsl\"?>\\n<!--\\n  Licensed under the Apache License, Version 2.0 (the \"License\");\\n  you may not use this file except in compliance with the License.\\n  You may obtain a copy of the License at\\n\\n    http://www.apache.org/licenses/LICENSE-2.0\\n\\n  Unless required by applicable law or agreed to in writing, software\\n  distributed under the License is distributed on an \"AS IS\" BASIS,\\n  WITHOUT WARRANTIES OR CONDITIONS OF ANY KIND, either express or implied.\\n  See the License for the specific language governing permissions and\\n  limitations under the License. See accompanying LICENSE file.\\n-->\\n\\n<!-- Put site-specific property overrides in this file. -->\\n\\n<configuration>\\n  <property>\\n    <name>mapreduce.jobtracker.address</name>\\n    <value>ec2-18-188-147-46.us-east-2.compute.amazonaws.com:54311</value>\\n  </property>\\n  <property>\\n    <name>mapreduce.framework.name</name>\\n    <value>yarn</value>\\n  </property>\\n  <property>\\n    <name>yarn.app.mapreduce.am.resource.mb</name>\\n    <value>256</value>\\n  </property>\\n  <property>\\n    <name>mapreduce.map.memory.mb</name>\\n    <value>128</value>\\n  </property>\\n  <property>\\n    <name>mapreduce.reduce.memory.mb</name>\\n    <value>128</value>\\n  </property>\\n</configuration>\\n'\n"
     ]
    }
   ],
   "source": [
    "with client.read('/usr/ubuntu/hadoop/mapred-site.xml') as reader:\n",
    "  features = reader.read()\n",
    "print (features)"
   ]
  },
  {
   "cell_type": "code",
   "execution_count": 10,
   "metadata": {},
   "outputs": [
    {
     "data": {
      "text/plain": [
       "'/home/starrider/ubuntu'"
      ]
     },
     "execution_count": 10,
     "metadata": {},
     "output_type": "execute_result"
    }
   ],
   "source": [
    "client.download('/usr/ubuntu/', '/home/starrider/', n_threads=5)\n"
   ]
  },
  {
   "cell_type": "code",
   "execution_count": 14,
   "metadata": {},
   "outputs": [],
   "source": [
    "client.set_replication('/usr/ubuntu/1.png', 1)"
   ]
  },
  {
   "cell_type": "code",
   "execution_count": 22,
   "metadata": {},
   "outputs": [
    {
     "data": {
      "text/plain": [
       "'/usr/ubuntu/hadoop'"
      ]
     },
     "execution_count": 22,
     "metadata": {},
     "output_type": "execute_result"
    }
   ],
   "source": [
    "client.upload('/usr/ubuntu/hadoop','/home/starrider/hadoop/', n_threads=3)"
   ]
  },
  {
   "cell_type": "code",
   "execution_count": 19,
   "metadata": {},
   "outputs": [
    {
     "data": {
      "text/plain": [
       "True"
      ]
     },
     "execution_count": 19,
     "metadata": {},
     "output_type": "execute_result"
    }
   ],
   "source": [
    "client.delete('/usr/ubuntu/', recursive=True, skip_trash=True)\n"
   ]
  },
  {
   "cell_type": "code",
   "execution_count": 20,
   "metadata": {},
   "outputs": [],
   "source": [
    "client.makedirs('/usr/ubuntu/', permission=1777)"
   ]
  },
  {
   "cell_type": "code",
   "execution_count": 21,
   "metadata": {},
   "outputs": [
    {
     "data": {
      "text/plain": [
       "'/usr/ubuntu/Diploma-bak.zip'"
      ]
     },
     "execution_count": 21,
     "metadata": {},
     "output_type": "execute_result"
    }
   ],
   "source": [
    "client.upload('/usr/ubuntu/','/home/starrider/Diploma-bak/Diploma-bak.zip', n_threads=3)"
   ]
  },
  {
   "cell_type": "code",
   "execution_count": null,
   "metadata": {},
   "outputs": [],
   "source": []
  }
 ],
 "metadata": {
  "kernelspec": {
   "display_name": "Python 3",
   "language": "python",
   "name": "python3"
  },
  "language_info": {
   "codemirror_mode": {
    "name": "ipython",
    "version": 3
   },
   "file_extension": ".py",
   "mimetype": "text/x-python",
   "name": "python",
   "nbconvert_exporter": "python",
   "pygments_lexer": "ipython3",
   "version": "3.7.4"
  }
 },
 "nbformat": 4,
 "nbformat_minor": 2
}
